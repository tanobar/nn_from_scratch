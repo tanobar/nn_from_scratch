{
 "cells": [
  {
   "cell_type": "code",
   "execution_count": 1,
   "metadata": {},
   "outputs": [],
   "source": [
    "from network import Net\n",
    "from trainers import *\n",
    "from validator import *\n",
    "import numpy as np\n",
    "import pandas as pd"
   ]
  },
  {
   "cell_type": "code",
   "execution_count": 2,
   "metadata": {},
   "outputs": [
    {
     "name": "stdout",
     "output_type": "stream",
     "text": [
      "(200, 12)\n",
      "(200, 3)\n",
      "(50, 12)\n",
      "(50, 3)\n"
     ]
    }
   ],
   "source": [
    "#load data TRAIN\n",
    "data = pd.read_csv(r'C:\\Users\\Tano\\Documents\\UNI\\MAGISTRALE\\ML\\nn_from_scratch\\datasets\\cup\\ML-CUP24-TR.csv', header=None, skiprows=7)\n",
    "data = data.to_numpy()\n",
    "\n",
    "#split data in train 80% and test 20%\n",
    "np.random.shuffle(data)\n",
    "train = data[:int(len(data)*0.8)]\n",
    "test = data[int(len(data)*0.8):]\n",
    "\n",
    "#split in x and y\n",
    "x_train = train[:,1:-3]\n",
    "y_train = train[:,-3:]\n",
    "x_test = test[:,1:-3]\n",
    "y_test = test[:,-3:]\n",
    "\n",
    "print(x_train.shape)\n",
    "print(y_train.shape)\n",
    "print(x_test.shape)\n",
    "print(y_test.shape)"
   ]
  },
  {
   "cell_type": "code",
   "execution_count": 4,
   "metadata": {},
   "outputs": [
    {
     "name": "stdout",
     "output_type": "stream",
     "text": [
      "Layer 1: Units = 768, Activation = relu\n",
      "Layer 2: Units = 768, Activation = relu\n",
      "Layer 3: Units = 3, Activation = identity\n"
     ]
    }
   ],
   "source": [
    "network = Net('./config_cup.yaml')\n",
    "network.print_structure()"
   ]
  },
  {
   "cell_type": "code",
   "execution_count": 5,
   "metadata": {},
   "outputs": [
    {
     "name": "stdout",
     "output_type": "stream",
     "text": [
      "648\n"
     ]
    },
    {
     "name": "stderr",
     "output_type": "stream",
     "text": [
      "100%|██████████| 648/648 [1:40:58<00:00,  9.35s/it]\n"
     ]
    },
    {
     "data": {
      "text/plain": [
       "{'conf': {'activations': ['relu', 'relu', 'identity'],\n",
       "  'alpha': 0.9,\n",
       "  'eta': 0.001,\n",
       "  'initializer': 'he',\n",
       "  'lambd': 1e-05,\n",
       "  'units': [1024, 1024, 3]},\n",
       " 'epochs': 402,\n",
       " 'metrics': np.float64(4.077944746740005)}"
      ]
     },
     "execution_count": 5,
     "metadata": {},
     "output_type": "execute_result"
    }
   ],
   "source": [
    "# first grid search\n",
    "valid = Validator('param_grid_cup.yaml')\n",
    "print(len(valid.grid))\n",
    "\n",
    "best_configuration = valid.grid_search(x_train, y_train, network)\n",
    "best_configuration"
   ]
  },
  {
   "cell_type": "code",
   "execution_count": null,
   "metadata": {},
   "outputs": [],
   "source": [
    "#second grid search, fine grained\n",
    "valid = Validator('param_grid_cup2.yaml')\n",
    "print(len(valid.grid))\n",
    "\n",
    "best_configuration = valid.grid_search(x_train, y_train, network)\n",
    "best_configuration"
   ]
  },
  {
   "cell_type": "code",
   "execution_count": null,
   "metadata": {},
   "outputs": [],
   "source": [
    "network.set_best_configuration(best_configuration)\n",
    "model = train_model(x_train, y_train, network.get_W(), network.get_b(), network.get_layers(), network.get_hyperparameters())\n",
    "loss_plot('loss_values.csv')\n",
    "plot_mee('mee_values.csv')\n",
    "test_model_temp(x_test, y_test, model[0], model[1], network.get_layers(), network.get_hyperparameters()['metric'])"
   ]
  },
  {
   "cell_type": "code",
   "execution_count": null,
   "metadata": {},
   "outputs": [],
   "source": [
    "network = Net('./config_cup.yaml')\n",
    "network.print_structure()\n",
    "\n",
    "results = train_and_evaluate(x_train, y_train, x_test, y_test, network.get_W(), network.get_b(), network.get_layers(), network.get_hyperparameters())\n",
    "\n",
    "for key in results.keys():\n",
    "    if key != 'model':\n",
    "        print(key, ' : ', results[key])"
   ]
  },
  {
   "cell_type": "code",
   "execution_count": null,
   "metadata": {},
   "outputs": [],
   "source": [
    "#load data TEST\n",
    "data_TS = pd.read_csv(r'C:\\Users\\Tano\\Documents\\UNI\\MAGISTRALE\\ML\\nn_from_scratch\\datasets\\cup\\ML-CUP24-TS.csv', header=None, skiprows=7)\n",
    "data_TS = data_TS.to_numpy()\n",
    "x_TS = data_TS[:,1:]\n",
    "print(x_TS.shape)\n",
    "\n",
    "cup_labels = blind_test(x_TS, results['model'][0], results['model'][1], network.get_layers())\n",
    "#save cup_labels in a csv file\n",
    "np.savetxt(\"cup_labels.csv\", cup_labels, delimiter=\",\")\n",
    "# print the first 10 labels\n",
    "print(cup_labels[:10])"
   ]
  },
  {
   "cell_type": "code",
   "execution_count": null,
   "metadata": {},
   "outputs": [],
   "source": [
    "# plot the dataset and the cup_labels in 3d\n",
    "import matplotlib.pyplot as plt\n",
    "from mpl_toolkits.mplot3d import Axes3D\n",
    "\n",
    "fig = plt.figure()\n",
    "ax = fig.add_subplot(111, projection='3d')\n",
    "ax.scatter(cup_labels[:,0], cup_labels[:,1], cup_labels[:,2], c='r', marker='o')\n",
    "ax.scatter(y_train[:,0], y_train[:,1], y_train[:,2], c='b', marker='o')\n",
    "plt.show()"
   ]
  }
 ],
 "metadata": {
  "kernelspec": {
   "display_name": "Python 3",
   "language": "python",
   "name": "python3"
  },
  "language_info": {
   "codemirror_mode": {
    "name": "ipython",
    "version": 3
   },
   "file_extension": ".py",
   "mimetype": "text/x-python",
   "name": "python",
   "nbconvert_exporter": "python",
   "pygments_lexer": "ipython3",
   "version": "3.11.8"
  }
 },
 "nbformat": 4,
 "nbformat_minor": 2
}

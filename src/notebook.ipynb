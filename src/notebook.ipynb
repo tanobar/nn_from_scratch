{
 "cells": [
  {
   "cell_type": "code",
   "execution_count": 1,
   "metadata": {},
   "outputs": [],
   "source": [
    "from network import Net\n",
    "from trainers import *\n",
    "import numpy as np\n",
    "import pandas as pd"
   ]
  },
  {
   "cell_type": "code",
   "execution_count": 2,
   "metadata": {},
   "outputs": [
    {
     "data": {
      "text/plain": [
       "\"\\nnetwork = Net()\\n# adding layers can be automatized\\nnetwork.add_layer(3, 'relu')\\nnetwork.add_layer(4, 'relu')\\nnetwork.add_layer(3, 'relu')\\nnetwork.add_layer(4, 'sigmoid')\\nnetwork.print_structure()\\n\\nfor i in range(len(network._W)):\\n    print(network._W[i].shape)\\n\\nnetwork._W\\n\""
      ]
     },
     "execution_count": 2,
     "metadata": {},
     "output_type": "execute_result"
    }
   ],
   "source": [
    "\"\"\"\n",
    "network = Net()\n",
    "# adding layers can be automatized\n",
    "network.add_layer(3, 'relu')\n",
    "network.add_layer(4, 'relu')\n",
    "network.add_layer(3, 'relu')\n",
    "network.add_layer(4, 'sigmoid')\n",
    "network.print_structure()\n",
    "\n",
    "for i in range(len(network._W)):\n",
    "    print(network._W[i].shape)\n",
    "\n",
    "network._W\n",
    "\"\"\""
   ]
  },
  {
   "cell_type": "code",
   "execution_count": null,
   "metadata": {},
   "outputs": [
    {
     "name": "stdout",
     "output_type": "stream",
     "text": [
      "8 124\n",
      "Layer 1: Units = 3, Activation = relu\n",
      "Layer 2: Units = 3, Activation = relu\n",
      "Layer 3: Units = 2, Activation = sigmoid\n",
      "W[0].shape: (3, 6)\n",
      "dW[0].shape: (3, 6)\n",
      "W[1].shape: (3, 3)\n",
      "dW[1].shape: (3, 3)\n",
      "W[2].shape: (2, 3)\n",
      "dW[2].shape: (2, 2)\n"
     ]
    },
    {
     "ename": "ValueError",
     "evalue": "operands could not be broadcast together with shapes (2,3) (2,2) ",
     "output_type": "error",
     "traceback": [
      "\u001b[1;31m---------------------------------------------------------------------------\u001b[0m",
      "\u001b[1;31mValueError\u001b[0m                                Traceback (most recent call last)",
      "Cell \u001b[1;32mIn[3], line 19\u001b[0m\n\u001b[0;32m     15\u001b[0m network\u001b[38;5;241m.\u001b[39mprint_structure()\n\u001b[0;32m     17\u001b[0m X_tr\n\u001b[1;32m---> 19\u001b[0m model \u001b[38;5;241m=\u001b[39m \u001b[43mtrain\u001b[49m\u001b[43m(\u001b[49m\u001b[38;5;124;43m'\u001b[39;49m\u001b[38;5;124;43mgd\u001b[39;49m\u001b[38;5;124;43m'\u001b[39;49m\u001b[43m,\u001b[49m\u001b[43m \u001b[49m\u001b[43mX_tr\u001b[49m\u001b[43m,\u001b[49m\u001b[43m \u001b[49m\u001b[43mY_tr\u001b[49m\u001b[43m,\u001b[49m\u001b[43m \u001b[49m\u001b[43mnetwork\u001b[49m\u001b[38;5;241;43m.\u001b[39;49m\u001b[43mget_W\u001b[49m\u001b[43m(\u001b[49m\u001b[43m)\u001b[49m\u001b[43m,\u001b[49m\u001b[43m \u001b[49m\u001b[43mnetwork\u001b[49m\u001b[38;5;241;43m.\u001b[39;49m\u001b[43mget_b\u001b[49m\u001b[43m(\u001b[49m\u001b[43m)\u001b[49m\u001b[43m,\u001b[49m\u001b[43m \u001b[49m\u001b[43mnetwork\u001b[49m\u001b[38;5;241;43m.\u001b[39;49m\u001b[43mget_layers\u001b[49m\u001b[43m(\u001b[49m\u001b[43m)\u001b[49m\u001b[43m,\u001b[49m\u001b[38;5;124;43m'\u001b[39;49m\u001b[38;5;124;43mbin_classification\u001b[39;49m\u001b[38;5;124;43m'\u001b[39;49m\u001b[43m,\u001b[49m\u001b[43m \u001b[49m\u001b[38;5;241;43m500\u001b[39;49m\u001b[43m,\u001b[49m\u001b[43m \u001b[49m\u001b[38;5;241;43m0.001\u001b[39;49m\u001b[43m,\u001b[49m\u001b[43m \u001b[49m\u001b[38;5;124;43m'\u001b[39;49m\u001b[38;5;124;43mnone\u001b[39;49m\u001b[38;5;124;43m'\u001b[39;49m\u001b[43m \u001b[49m\u001b[43m)\u001b[49m\n",
      "File \u001b[1;32mc:\\Users\\t-tan\\OneDrive\\Documenti\\UNI\\MAGISTRALE\\ML\\nn_from_scratch\\src\\trainers.py:89\u001b[0m, in \u001b[0;36mtrain\u001b[1;34m(algo, X, Y, W, b, layers, task, epochs, eta, optimizer)\u001b[0m\n\u001b[0;32m     87\u001b[0m model \u001b[38;5;241m=\u001b[39m []\n\u001b[0;32m     88\u001b[0m \u001b[38;5;28;01mif\u001b[39;00m algo \u001b[38;5;241m==\u001b[39m \u001b[38;5;124m'\u001b[39m\u001b[38;5;124mgd\u001b[39m\u001b[38;5;124m'\u001b[39m:\n\u001b[1;32m---> 89\u001b[0m     W, b \u001b[38;5;241m=\u001b[39m \u001b[43mgrad_descent\u001b[49m\u001b[43m(\u001b[49m\u001b[43mX\u001b[49m\u001b[43m,\u001b[49m\u001b[43m \u001b[49m\u001b[43mY\u001b[49m\u001b[43m,\u001b[49m\u001b[43m \u001b[49m\u001b[43mW\u001b[49m\u001b[43m,\u001b[49m\u001b[43m \u001b[49m\u001b[43mb\u001b[49m\u001b[43m,\u001b[49m\u001b[43m \u001b[49m\u001b[43mlayers\u001b[49m\u001b[43m,\u001b[49m\u001b[43m \u001b[49m\u001b[43mtask\u001b[49m\u001b[43m,\u001b[49m\u001b[43m \u001b[49m\u001b[43mepochs\u001b[49m\u001b[43m,\u001b[49m\u001b[43m \u001b[49m\u001b[43meta\u001b[49m\u001b[43m,\u001b[49m\u001b[43m \u001b[49m\u001b[43moptimizer\u001b[49m\u001b[43m)\u001b[49m\n\u001b[0;32m     90\u001b[0m     model\u001b[38;5;241m.\u001b[39mextend([W,b])\n\u001b[0;32m     91\u001b[0m \u001b[38;5;28;01mreturn\u001b[39;00m model\n",
      "File \u001b[1;32mc:\\Users\\t-tan\\OneDrive\\Documenti\\UNI\\MAGISTRALE\\ML\\nn_from_scratch\\src\\trainers.py:72\u001b[0m, in \u001b[0;36mgrad_descent\u001b[1;34m(X, Y, W, b, layers, task, epochs, eta, optimizer)\u001b[0m\n\u001b[0;32m     69\u001b[0m accuracy_data\u001b[38;5;241m.\u001b[39mappend(accuracy(A[\u001b[38;5;241m-\u001b[39m\u001b[38;5;241m1\u001b[39m], Y))\n\u001b[0;32m     71\u001b[0m dW, db \u001b[38;5;241m=\u001b[39m back_prop(layers, task, Z, A, W, X, Y)\n\u001b[1;32m---> 72\u001b[0m W, b \u001b[38;5;241m=\u001b[39m \u001b[43mupdate_params\u001b[49m\u001b[43m(\u001b[49m\u001b[38;5;28;43mlen\u001b[39;49m\u001b[43m(\u001b[49m\u001b[43mlayers\u001b[49m\u001b[43m)\u001b[49m\u001b[43m,\u001b[49m\u001b[43m \u001b[49m\u001b[43mW\u001b[49m\u001b[43m,\u001b[49m\u001b[43m \u001b[49m\u001b[43mb\u001b[49m\u001b[43m,\u001b[49m\u001b[43m \u001b[49m\u001b[43mdW\u001b[49m\u001b[43m,\u001b[49m\u001b[43m \u001b[49m\u001b[43mdb\u001b[49m\u001b[43m,\u001b[49m\u001b[43m \u001b[49m\u001b[43meta\u001b[49m\u001b[43m,\u001b[49m\u001b[43m \u001b[49m\u001b[43moptimizer\u001b[49m\u001b[43m)\u001b[49m\n\u001b[0;32m     74\u001b[0m loss \u001b[38;5;241m=\u001b[39m mse(A[\u001b[38;5;28mlen\u001b[39m(A)\u001b[38;5;241m-\u001b[39m\u001b[38;5;241m1\u001b[39m], Y) \u001b[38;5;66;03m# TODO Change this fo MONK\u001b[39;00m\n\u001b[0;32m     75\u001b[0m loss_data\u001b[38;5;241m.\u001b[39mappend({\u001b[38;5;124m'\u001b[39m\u001b[38;5;124mepoch\u001b[39m\u001b[38;5;124m'\u001b[39m: i, \u001b[38;5;124m'\u001b[39m\u001b[38;5;124mloss\u001b[39m\u001b[38;5;124m'\u001b[39m: loss})\n",
      "File \u001b[1;32mc:\\Users\\t-tan\\OneDrive\\Documenti\\UNI\\MAGISTRALE\\ML\\nn_from_scratch\\src\\trainers.py:57\u001b[0m, in \u001b[0;36mupdate_params\u001b[1;34m(num_layers, W, b, dW, db, eta, optimizer)\u001b[0m\n\u001b[0;32m     54\u001b[0m     \u001b[38;5;28mprint\u001b[39m(\u001b[38;5;124mf\u001b[39m\u001b[38;5;124m\"\u001b[39m\u001b[38;5;124mW[\u001b[39m\u001b[38;5;132;01m{\u001b[39;00mi\u001b[38;5;132;01m}\u001b[39;00m\u001b[38;5;124m].shape: \u001b[39m\u001b[38;5;132;01m{\u001b[39;00mW[i]\u001b[38;5;241m.\u001b[39mshape\u001b[38;5;132;01m}\u001b[39;00m\u001b[38;5;124m\"\u001b[39m)\n\u001b[0;32m     55\u001b[0m     \u001b[38;5;28mprint\u001b[39m(\u001b[38;5;124mf\u001b[39m\u001b[38;5;124m\"\u001b[39m\u001b[38;5;124mdW[\u001b[39m\u001b[38;5;132;01m{\u001b[39;00mi\u001b[38;5;132;01m}\u001b[39;00m\u001b[38;5;124m].shape: \u001b[39m\u001b[38;5;132;01m{\u001b[39;00mdW[i]\u001b[38;5;241m.\u001b[39mshape\u001b[38;5;132;01m}\u001b[39;00m\u001b[38;5;124m\"\u001b[39m)\n\u001b[1;32m---> 57\u001b[0m     W[i] \u001b[38;5;241m=\u001b[39m \u001b[43mW\u001b[49m\u001b[43m[\u001b[49m\u001b[43mi\u001b[49m\u001b[43m]\u001b[49m\u001b[43m \u001b[49m\u001b[38;5;241;43m-\u001b[39;49m\u001b[43m \u001b[49m\u001b[43meta\u001b[49m\u001b[43m \u001b[49m\u001b[38;5;241;43m*\u001b[39;49m\u001b[43m \u001b[49m\u001b[43mdW\u001b[49m\u001b[43m[\u001b[49m\u001b[43mi\u001b[49m\u001b[43m]\u001b[49m\n\u001b[0;32m     58\u001b[0m     b[i] \u001b[38;5;241m=\u001b[39m b[i] \u001b[38;5;241m-\u001b[39m eta \u001b[38;5;241m*\u001b[39m db[i]\n\u001b[0;32m     59\u001b[0m \u001b[38;5;28;01mreturn\u001b[39;00m W, b\n",
      "\u001b[1;31mValueError\u001b[0m: operands could not be broadcast together with shapes (2,3) (2,2) "
     ]
    }
   ],
   "source": [
    "file_path = r'C:\\Users\\t-tan\\OneDrive\\Documenti\\UNI\\MAGISTRALE\\ML\\nn_from_scratch\\datasets\\monk_dataset\\monks-1.train'\n",
    "data = pd.read_csv(file_path, delimiter=' ', header=None, skipinitialspace=True)\n",
    "data = np.array(data).T\n",
    "n, m = data.shape # r, c\n",
    "#np.random.shuffle(data)\n",
    "# n,m == 8 124\n",
    "\n",
    "Y_tr = data[0]\n",
    "X_tr = data[1:n-1]\n",
    "\n",
    "network = Net()\n",
    "network.add_layer(3, 'relu')\n",
    "network.add_layer(3, 'relu')\n",
    "network.add_layer(2, 'sigmoid')\n",
    "network.print_structure()\n",
    "\n",
    "X_tr\n",
    "\n",
    "model = train('gd', X_tr, Y_tr, network.get_W(), network.get_b(), network.get_layers(),'bin_classification', 500, 0.001, 'none' )"
   ]
  }
 ],
 "metadata": {
  "kernelspec": {
   "display_name": "Python 3",
   "language": "python",
   "name": "python3"
  },
  "language_info": {
   "codemirror_mode": {
    "name": "ipython",
    "version": 3
   },
   "file_extension": ".py",
   "mimetype": "text/x-python",
   "name": "python",
   "nbconvert_exporter": "python",
   "pygments_lexer": "ipython3",
   "version": "3.11.8"
  }
 },
 "nbformat": 4,
 "nbformat_minor": 2
}

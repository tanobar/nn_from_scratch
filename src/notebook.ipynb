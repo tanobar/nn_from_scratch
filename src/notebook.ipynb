{
 "cells": [
  {
   "cell_type": "code",
   "execution_count": null,
   "metadata": {},
   "outputs": [],
   "source": [
    "from network import Net\n",
    "from trainers import *\n",
    "import numpy as np\n",
    "import pandas as pd"
   ]
  },
  {
   "cell_type": "code",
   "execution_count": null,
   "metadata": {},
   "outputs": [],
   "source": [
    "\"\"\"\n",
    "network = Net()\n",
    "# adding layers can be automatized\n",
    "network.add_layer(3, 'relu')\n",
    "network.add_layer(4, 'relu')\n",
    "network.add_layer(3, 'relu')\n",
    "network.add_layer(4, 'sigmoid')\n",
    "network.print_structure()\n",
    "\n",
    "for i in range(len(network._W)):\n",
    "    print(network._W[i].shape)\n",
    "\n",
    "network._W\n",
    "\"\"\""
   ]
  },
  {
   "cell_type": "code",
   "execution_count": null,
   "metadata": {},
   "outputs": [],
   "source": [
    "file_path = r'C:\\Users\\t-tan\\OneDrive\\Documenti\\UNI\\MAGISTRALE\\ML\\nn_from_scratch\\datasets\\monk_dataset\\monks-1.train'\n",
    "data = pd.read_csv(file_path, delimiter=' ', header=None, skipinitialspace=True)\n",
    "data = np.array(data).T\n",
    "n, m = data.shape # r, c\n",
    "#np.random.shuffle(data)\n",
    "print(n,m)\n",
    "\n",
    "Y_tr = data[0]\n",
    "X_tr = data[1:n-1]\n",
    "\n",
    "network = Net()\n",
    "network.add_layer(3, 'relu')\n",
    "network.add_layer(3, 'relu')\n",
    "network.add_layer(2, 'softmax')\n",
    "network.print_structure()\n",
    "\n",
    "X_tr\n",
    "\n",
    "model = train('gd', X_tr, Y_tr, network.get_W(), network.get_b(), network.get_layers(),'classification', 500, 0.001, 'none' )"
   ]
  }
 ],
 "metadata": {
  "kernelspec": {
   "display_name": "Python 3",
   "language": "python",
   "name": "python3"
  },
  "language_info": {
   "codemirror_mode": {
    "name": "ipython",
    "version": 3
   },
   "file_extension": ".py",
   "mimetype": "text/x-python",
   "name": "python",
   "nbconvert_exporter": "python",
   "pygments_lexer": "ipython3",
   "version": "3.11.8"
  }
 },
 "nbformat": 4,
 "nbformat_minor": 2
}

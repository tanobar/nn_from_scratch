{
 "cells": [
  {
   "cell_type": "code",
   "execution_count": null,
   "metadata": {},
   "outputs": [],
   "source": [
    "from network import Net\n",
    "from trainers import *\n",
    "import numpy as np\n",
    "import pandas as pd"
   ]
  },
  {
   "cell_type": "code",
   "execution_count": null,
   "metadata": {},
   "outputs": [],
   "source": [
    "\"\"\"\n",
    "network = Net()\n",
    "# adding layers can be automatized\n",
    "network.add_layer(3, 'relu')\n",
    "network.add_layer(4, 'relu')\n",
    "network.add_layer(3, 'relu')\n",
    "network.add_layer(4, 'sigmoid')\n",
    "network.print_structure()\n",
    "\n",
    "for i in range(len(network._W)):\n",
    "    print(network._W[i].shape)\n",
    "\n",
    "network._W\n",
    "\"\"\""
   ]
  },
  {
   "cell_type": "code",
   "execution_count": null,
   "metadata": {},
   "outputs": [],
   "source": [
    "file_path = r'C:\\Users\\t-tan\\OneDrive\\Documenti\\UNI\\MAGISTRALE\\ML\\nn_from_scratch\\datasets\\monk_dataset\\monks-1.train'\n",
    "data = pd.read_csv(file_path, delimiter=' ', header=None, skipinitialspace=True)\n",
    "data = np.array(data).T\n",
    "n, m = data.shape # r, c\n",
    "#np.random.shuffle(data)\n",
    "# n,m == 8 124\n",
    "\n",
    "Y_tr = data[0]\n",
    "X_tr = data[1:n-1]\n",
    "\n",
    "network = Net()\n",
    "network.add_layer(4, 'relu')\n",
    "network.add_layer(2, 'sigmoid')\n",
    "network.print_structure()\n",
    "\n",
    "model = train('gd', X_tr, Y_tr, network.get_W(), network.get_b(), network.get_layers(),'bin_classification', 1000, 0.01, 'none' )"
   ]
  },
  {
   "cell_type": "code",
   "execution_count": null,
   "metadata": {},
   "outputs": [],
   "source": [
    "loss_df = pd.read_csv('loss_values.csv')\n",
    "\n",
    "plt.plot(loss_df['epoch'], loss_df['loss'])\n",
    "plt.xlabel('Epoch')\n",
    "plt.ylabel('Loss')\n",
    "plt.title('Loss over Epochs')\n",
    "plt.show()"
   ]
  },
  {
   "cell_type": "code",
   "execution_count": null,
   "metadata": {},
   "outputs": [],
   "source": [
    "# testing the model on test set\n",
    "def testing(layers, W, b, X, Y): #essentially, a cicle of Forward prop\n",
    "    Z = [None] * len(layers)\n",
    "    A = [None] * len(layers)\n",
    "\n",
    "    #Z[0] = W[0].dot(X) + b[0]\n",
    "    #A[0] = layers[0].activate(Z[0])\n",
    "\n",
    "    for i in range(len(layers)):\n",
    "        Z[i] = W[i].dot(A[i-1] if i > 0 else X) + b[i]\n",
    "        A[i] = layers[i].activate(Z[i])\n",
    "    \n",
    "    #plotting the graphic of targets vs predicions\n",
    "    plt.plot(Y.flatten(), label=\"Target\")\n",
    "    plt.plot(A[-1].flatten(), label=\"Model\")\n",
    "    plt.xlabel(\"Examples\")\n",
    "    plt.ylabel(\"Values\")\n",
    "    plt.title(\"Model Predictions vs. Target Values\")\n",
    "    plt.legend()\n",
    "    plt.show()\n",
    "\n",
    "    df = pd.DataFrame(data)\n",
    "    df.to_csv('target_vs_prediction.csv', index=False)\n",
    "\n",
    "file_path = r'C:\\Users\\t-tan\\OneDrive\\Documenti\\UNI\\MAGISTRALE\\ML\\nn_from_scratch\\datasets\\monk_dataset\\monks-1.train'\n",
    "data = pd.read_csv(file_path, delimiter=' ', header=None, skipinitialspace=True)\n",
    "data = np.array(data).T\n",
    "n, m = data.shape\n",
    "Y_test = data[0]\n",
    "X_test = data[1:n-1]\n",
    "\n",
    "testing(network.get_layers(), model[0], model[1], X_test, one_hot(Y_test))"
   ]
  }
 ],
 "metadata": {
  "kernelspec": {
   "display_name": "Python 3",
   "language": "python",
   "name": "python3"
  },
  "language_info": {
   "codemirror_mode": {
    "name": "ipython",
    "version": 3
   },
   "file_extension": ".py",
   "mimetype": "text/x-python",
   "name": "python",
   "nbconvert_exporter": "python",
   "pygments_lexer": "ipython3",
   "version": "3.11.8"
  }
 },
 "nbformat": 4,
 "nbformat_minor": 2
}
